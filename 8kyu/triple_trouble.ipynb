{
 "cells": [
  {
   "cell_type": "code",
   "execution_count": 2,
   "id": "8b7cded9",
   "metadata": {},
   "outputs": [],
   "source": [
    "# Create a function that will return a string that combines all of the letters of the three inputed strings in groups. \n",
    "# Taking the first letter of all of the inputs and grouping them next to each other. Do this for every letter\n",
    "\n",
    "def triple_trouble(one, two, three):\n",
    "    combined_str = \"\"\n",
    "    for i in range(len(one)):\n",
    "        combined_str += one[i] + two[i] + three[i]\n",
    "    return combined_str"
   ]
  }
 ],
 "metadata": {
  "kernelspec": {
   "display_name": "Python 3 (ipykernel)",
   "language": "python",
   "name": "python3"
  },
  "language_info": {
   "codemirror_mode": {
    "name": "ipython",
    "version": 3
   },
   "file_extension": ".py",
   "mimetype": "text/x-python",
   "name": "python",
   "nbconvert_exporter": "python",
   "pygments_lexer": "ipython3",
   "version": "3.9.13"
  }
 },
 "nbformat": 4,
 "nbformat_minor": 5
}
