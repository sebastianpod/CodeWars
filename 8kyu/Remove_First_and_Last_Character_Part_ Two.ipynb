{
 "cells": [
  {
   "cell_type": "code",
   "execution_count": 26,
   "id": "d6dcb153",
   "metadata": {},
   "outputs": [],
   "source": [
    "# Write a function which returns a new string containing the same character sequences except the first and the \n",
    "# last ones but this time separated by spaces\n",
    "\n",
    "def array(strng):\n",
    "    return ' '.join(strng.split(',')[1:-1]) or None"
   ]
  }
 ],
 "metadata": {
  "kernelspec": {
   "display_name": "Python 3 (ipykernel)",
   "language": "python",
   "name": "python3"
  },
  "language_info": {
   "codemirror_mode": {
    "name": "ipython",
    "version": 3
   },
   "file_extension": ".py",
   "mimetype": "text/x-python",
   "name": "python",
   "nbconvert_exporter": "python",
   "pygments_lexer": "ipython3",
   "version": "3.9.13"
  }
 },
 "nbformat": 4,
 "nbformat_minor": 5
}
