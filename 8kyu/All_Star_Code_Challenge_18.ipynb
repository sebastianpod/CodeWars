{
 "cells": [
  {
   "cell_type": "code",
   "execution_count": 14,
   "id": "fd28f2f6",
   "metadata": {},
   "outputs": [
    {
     "name": "stdout",
     "output_type": "stream",
     "text": [
      "a\n",
      "n\n",
      "d\n",
      "r\n",
      "z\n",
      "e\n",
      "j\n"
     ]
    },
    {
     "data": {
      "text/plain": [
       "7"
      ]
     },
     "execution_count": 14,
     "metadata": {},
     "output_type": "execute_result"
    }
   ],
   "source": [
    "def str_count(strng, letter):\n",
    "    counter = 0\n",
    "    for i in strng:\n",
    "        print(i)\n",
    "        if i in 'andrzej':\n",
    "            counter += 1\n",
    "    return counter\n",
    "str_count('andrzej','a')"
   ]
  }
 ],
 "metadata": {
  "kernelspec": {
   "display_name": "Python 3 (ipykernel)",
   "language": "python",
   "name": "python3"
  },
  "language_info": {
   "codemirror_mode": {
    "name": "ipython",
    "version": 3
   },
   "file_extension": ".py",
   "mimetype": "text/x-python",
   "name": "python",
   "nbconvert_exporter": "python",
   "pygments_lexer": "ipython3",
   "version": "3.9.13"
  }
 },
 "nbformat": 4,
 "nbformat_minor": 5
}
