{
 "cells": [
  {
   "cell_type": "code",
   "execution_count": 28,
   "id": "3090aa2b",
   "metadata": {},
   "outputs": [],
   "source": [
    "def sum_str(a, b):\n",
    "    return '0' if a == '' and b == '' else a if b == '' else b if a == '' else str(int(a) + int(b))"
   ]
  }
 ],
 "metadata": {
  "kernelspec": {
   "display_name": "Python 3 (ipykernel)",
   "language": "python",
   "name": "python3"
  },
  "language_info": {
   "codemirror_mode": {
    "name": "ipython",
    "version": 3
   },
   "file_extension": ".py",
   "mimetype": "text/x-python",
   "name": "python",
   "nbconvert_exporter": "python",
   "pygments_lexer": "ipython3",
   "version": "3.9.13"
  }
 },
 "nbformat": 4,
 "nbformat_minor": 5
}
