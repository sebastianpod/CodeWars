{
 "cells": [
  {
   "cell_type": "code",
   "execution_count": 2,
   "id": "da5d93ff",
   "metadata": {},
   "outputs": [],
   "source": [
    "def area_or_perimeter(l , w):\n",
    "    return l * w if l == w else 2 * l + 2 * w"
   ]
  }
 ],
 "metadata": {
  "kernelspec": {
   "display_name": "Python 3 (ipykernel)",
   "language": "python",
   "name": "python3"
  },
  "language_info": {
   "codemirror_mode": {
    "name": "ipython",
    "version": 3
   },
   "file_extension": ".py",
   "mimetype": "text/x-python",
   "name": "python",
   "nbconvert_exporter": "python",
   "pygments_lexer": "ipython3",
   "version": "3.9.13"
  }
 },
 "nbformat": 4,
 "nbformat_minor": 5
}
