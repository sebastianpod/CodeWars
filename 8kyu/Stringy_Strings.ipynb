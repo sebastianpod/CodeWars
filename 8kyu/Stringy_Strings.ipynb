{
 "cells": [
  {
   "cell_type": "code",
   "execution_count": 5,
   "id": "c539ab13",
   "metadata": {},
   "outputs": [
    {
     "data": {
      "text/plain": [
       "'101010101010'"
      ]
     },
     "execution_count": 5,
     "metadata": {},
     "output_type": "execute_result"
    }
   ],
   "source": [
    "def stringy(size):\n",
    "    strng = ''\n",
    "    for i in range(size):\n",
    "        if i % 2 == 0:\n",
    "            strng += '1'\n",
    "        else:\n",
    "            strng += '0'\n",
    "    return strng\n",
    "\n",
    "stringy(12)"
   ]
  }
 ],
 "metadata": {
  "kernelspec": {
   "display_name": "Python 3 (ipykernel)",
   "language": "python",
   "name": "python3"
  },
  "language_info": {
   "codemirror_mode": {
    "name": "ipython",
    "version": 3
   },
   "file_extension": ".py",
   "mimetype": "text/x-python",
   "name": "python",
   "nbconvert_exporter": "python",
   "pygments_lexer": "ipython3",
   "version": "3.9.13"
  }
 },
 "nbformat": 4,
 "nbformat_minor": 5
}
