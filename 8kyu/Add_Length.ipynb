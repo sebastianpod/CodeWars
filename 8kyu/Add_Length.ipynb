{
 "cells": [
  {
   "cell_type": "code",
   "execution_count": 13,
   "id": "a6419f69",
   "metadata": {},
   "outputs": [
    {
     "data": {
      "text/plain": [
       "['andrzej 7', 'to 2', 'alkoholik 9']"
      ]
     },
     "execution_count": 13,
     "metadata": {},
     "output_type": "execute_result"
    }
   ],
   "source": [
    "def add_length(str_):\n",
    "    return [f'{i} {len(i)}' for i in str_.split()]\n",
    "add_length('andrzej to alkoholik')"
   ]
  }
 ],
 "metadata": {
  "kernelspec": {
   "display_name": "Python 3 (ipykernel)",
   "language": "python",
   "name": "python3"
  },
  "language_info": {
   "codemirror_mode": {
    "name": "ipython",
    "version": 3
   },
   "file_extension": ".py",
   "mimetype": "text/x-python",
   "name": "python",
   "nbconvert_exporter": "python",
   "pygments_lexer": "ipython3",
   "version": "3.9.13"
  }
 },
 "nbformat": 4,
 "nbformat_minor": 5
}
