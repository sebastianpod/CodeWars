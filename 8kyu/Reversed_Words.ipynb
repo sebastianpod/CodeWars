{
 "cells": [
  {
   "cell_type": "code",
   "execution_count": 25,
   "id": "79f0d427",
   "metadata": {},
   "outputs": [
    {
     "name": "stdout",
     "output_type": "stream",
     "text": [
      "battle no requires which that is victory greatest The \n"
     ]
    }
   ],
   "source": [
    "def reverse_words(s):\n",
    "    lista = []\n",
    "    empty = ' '\n",
    "    txt = ''\n",
    "    for i in s+empty:\n",
    "        if i == ' ':\n",
    "            txt += i\n",
    "            lista.append(txt)\n",
    "            txt = ''\n",
    "        else:\n",
    "            txt += i\n",
    "    for i in lista[::-1]:\n",
    "        txt += i\n",
    "    return txt.rstrip()\n",
    "print(reverse_words('The greatest victory is that which requires no battle'))\n",
    "        "
   ]
  }
 ],
 "metadata": {
  "kernelspec": {
   "display_name": "Python 3 (ipykernel)",
   "language": "python",
   "name": "python3"
  },
  "language_info": {
   "codemirror_mode": {
    "name": "ipython",
    "version": 3
   },
   "file_extension": ".py",
   "mimetype": "text/x-python",
   "name": "python",
   "nbconvert_exporter": "python",
   "pygments_lexer": "ipython3",
   "version": "3.9.13"
  }
 },
 "nbformat": 4,
 "nbformat_minor": 5
}
