{
 "cells": [
  {
   "cell_type": "code",
   "execution_count": 8,
   "id": "36933027",
   "metadata": {},
   "outputs": [],
   "source": [
    "def lowercase_count(strng):\n",
    "    cnt = 0\n",
    "    for char in strng:\n",
    "        if char.islower():\n",
    "            cnt += 1\n",
    "    return cnt"
   ]
  }
 ],
 "metadata": {
  "kernelspec": {
   "display_name": "Python 3 (ipykernel)",
   "language": "python",
   "name": "python3"
  },
  "language_info": {
   "codemirror_mode": {
    "name": "ipython",
    "version": 3
   },
   "file_extension": ".py",
   "mimetype": "text/x-python",
   "name": "python",
   "nbconvert_exporter": "python",
   "pygments_lexer": "ipython3",
   "version": "3.9.13"
  }
 },
 "nbformat": 4,
 "nbformat_minor": 5
}
