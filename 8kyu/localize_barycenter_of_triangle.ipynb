{
 "cells": [
  {
   "cell_type": "code",
   "execution_count": 4,
   "id": "8c5fd6ab",
   "metadata": {},
   "outputs": [
    {
     "data": {
      "text/plain": [
       "[7.3333, 4.6667]"
      ]
     },
     "execution_count": 4,
     "metadata": {},
     "output_type": "execute_result"
    }
   ],
   "source": [
    "def bar_triang(point_a, point_b, point_c): \n",
    "    return [round((point_a[0] + point_b[0] + point_c[0]) / 3,4) , round((point_a[1] + point_b[1] + point_c[1]) / 3,4)]\n",
    "bar_triang([4, 2], [12, 2], [6, 10])"
   ]
  }
 ],
 "metadata": {
  "kernelspec": {
   "display_name": "Python 3 (ipykernel)",
   "language": "python",
   "name": "python3"
  },
  "language_info": {
   "codemirror_mode": {
    "name": "ipython",
    "version": 3
   },
   "file_extension": ".py",
   "mimetype": "text/x-python",
   "name": "python",
   "nbconvert_exporter": "python",
   "pygments_lexer": "ipython3",
   "version": "3.9.13"
  }
 },
 "nbformat": 4,
 "nbformat_minor": 5
}
