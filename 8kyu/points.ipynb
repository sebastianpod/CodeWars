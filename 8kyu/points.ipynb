{
 "cells": [
  {
   "cell_type": "code",
   "execution_count": 4,
   "id": "aeedebca",
   "metadata": {},
   "outputs": [],
   "source": [
    "def points(games):\n",
    "    x = 0\n",
    "    for i in games:\n",
    "        if i[0] > i[2]:\n",
    "            x += 3\n",
    "        elif i[0] == i[2]:\n",
    "            x += 1\n",
    "    return x           "
   ]
  }
 ],
 "metadata": {
  "kernelspec": {
   "display_name": "Python 3 (ipykernel)",
   "language": "python",
   "name": "python3"
  },
  "language_info": {
   "codemirror_mode": {
    "name": "ipython",
    "version": 3
   },
   "file_extension": ".py",
   "mimetype": "text/x-python",
   "name": "python",
   "nbconvert_exporter": "python",
   "pygments_lexer": "ipython3",
   "version": "3.9.13"
  }
 },
 "nbformat": 4,
 "nbformat_minor": 5
}
