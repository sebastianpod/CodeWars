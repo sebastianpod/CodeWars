{
 "cells": [
  {
   "cell_type": "code",
   "execution_count": 11,
   "id": "5f752224",
   "metadata": {},
   "outputs": [],
   "source": [
    "def remove_exclamation_marks(s):\n",
    "    strng = ''\n",
    "    for char in s:\n",
    "        if char == '!':\n",
    "            strng += ''\n",
    "        else:\n",
    "            strng += char\n",
    "    return strng"
   ]
  },
  {
   "cell_type": "code",
   "execution_count": 12,
   "id": "5f903d03",
   "metadata": {},
   "outputs": [
    {
     "data": {
      "text/plain": [
       "'Andrzje Ty alkoholiku jebany aaaa'"
      ]
     },
     "execution_count": 12,
     "metadata": {},
     "output_type": "execute_result"
    }
   ],
   "source": [
    "remove_exclamation_marks('Andrzje!!!!!!!! Ty alkoholiku jebany!!!! aaaa!!!')"
   ]
  }
 ],
 "metadata": {
  "kernelspec": {
   "display_name": "Python 3 (ipykernel)",
   "language": "python",
   "name": "python3"
  },
  "language_info": {
   "codemirror_mode": {
    "name": "ipython",
    "version": 3
   },
   "file_extension": ".py",
   "mimetype": "text/x-python",
   "name": "python",
   "nbconvert_exporter": "python",
   "pygments_lexer": "ipython3",
   "version": "3.9.13"
  }
 },
 "nbformat": 4,
 "nbformat_minor": 5
}
