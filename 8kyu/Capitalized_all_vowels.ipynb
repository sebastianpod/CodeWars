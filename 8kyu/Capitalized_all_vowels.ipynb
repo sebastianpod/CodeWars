{
 "cells": [
  {
   "cell_type": "code",
   "execution_count": 2,
   "id": "6f7fd7f4",
   "metadata": {},
   "outputs": [],
   "source": [
    "def swap(st):\n",
    "    strng = ''\n",
    "    for char in st:\n",
    "        if char in ['a', 'e', 'i', 'o', 'u']:\n",
    "            char = char.capitalize()\n",
    "            strng += char\n",
    "        else:\n",
    "            strng += char\n",
    "    return strng"
   ]
  },
  {
   "cell_type": "code",
   "execution_count": 6,
   "id": "4639e827",
   "metadata": {},
   "outputs": [
    {
     "data": {
      "text/plain": [
       "'AndrzEj tO AlkOhOlIk'"
      ]
     },
     "execution_count": 6,
     "metadata": {},
     "output_type": "execute_result"
    }
   ],
   "source": [
    "swap('andrzej to alkoholik')"
   ]
  }
 ],
 "metadata": {
  "kernelspec": {
   "display_name": "Python 3 (ipykernel)",
   "language": "python",
   "name": "python3"
  },
  "language_info": {
   "codemirror_mode": {
    "name": "ipython",
    "version": 3
   },
   "file_extension": ".py",
   "mimetype": "text/x-python",
   "name": "python",
   "nbconvert_exporter": "python",
   "pygments_lexer": "ipython3",
   "version": "3.9.13"
  }
 },
 "nbformat": 4,
 "nbformat_minor": 5
}
