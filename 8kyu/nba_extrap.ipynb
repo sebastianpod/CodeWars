{
 "cells": [
  {
   "cell_type": "code",
   "execution_count": 2,
   "id": "806134bd",
   "metadata": {},
   "outputs": [],
   "source": [
    "# An NBA game runs 48 minutes (Four 12 minute quarters). Players do not typically play the full game, \n",
    "# subbing in and out as necessary. Your job is to extrapolate a player's points per game if they played the full 48 minutes.\n",
    "# Write a function that takes two arguments, ppg (points per game) and mpg (minutes per game) and \n",
    "# returns a straight extrapolation of ppg per 48 minutes rounded to the nearest tenth. Return 0 if 0.\n",
    "\n",
    "def nba_extrap(ppg, mpg):\n",
    "    return round((ppg * 48) / mpg,1)"
   ]
  }
 ],
 "metadata": {
  "kernelspec": {
   "display_name": "Python 3 (ipykernel)",
   "language": "python",
   "name": "python3"
  },
  "language_info": {
   "codemirror_mode": {
    "name": "ipython",
    "version": 3
   },
   "file_extension": ".py",
   "mimetype": "text/x-python",
   "name": "python",
   "nbconvert_exporter": "python",
   "pygments_lexer": "ipython3",
   "version": "3.9.13"
  }
 },
 "nbformat": 4,
 "nbformat_minor": 5
}
