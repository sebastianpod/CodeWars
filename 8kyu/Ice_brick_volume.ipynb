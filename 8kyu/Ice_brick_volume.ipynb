{
 "cells": [
  {
   "cell_type": "code",
   "execution_count": 2,
   "id": "2ed94d7d",
   "metadata": {},
   "outputs": [],
   "source": [
    "import math\n",
    "def ice_brick_volume(radius, bottle_length, rim_length):\n",
    "    return round(((radius*math.sqrt(2))**2)*(bottle_length - rim_length),2)"
   ]
  }
 ],
 "metadata": {
  "kernelspec": {
   "display_name": "Python 3 (ipykernel)",
   "language": "python",
   "name": "python3"
  },
  "language_info": {
   "codemirror_mode": {
    "name": "ipython",
    "version": 3
   },
   "file_extension": ".py",
   "mimetype": "text/x-python",
   "name": "python",
   "nbconvert_exporter": "python",
   "pygments_lexer": "ipython3",
   "version": "3.9.13"
  }
 },
 "nbformat": 4,
 "nbformat_minor": 5
}
