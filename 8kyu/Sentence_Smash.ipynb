{
 "cells": [
  {
   "cell_type": "code",
   "execution_count": 35,
   "id": "6875bc2d",
   "metadata": {},
   "outputs": [
    {
     "data": {
      "text/plain": [
       "'hello amazing world'"
      ]
     },
     "execution_count": 35,
     "metadata": {},
     "output_type": "execute_result"
    }
   ],
   "source": [
    "def smash(words):\n",
    "    txt = ''\n",
    "    for word in words:\n",
    "        txt += word + ' '\n",
    "    return txt.rstrip()\n",
    "smash([\"hello\", \"amazing\", \"world\"])\n",
    "\n",
    "def smash1(words):\n",
    "    return \" \".join(words)\n",
    "smash1([\"hello\", \"amazing\", \"world\"])"
   ]
  }
 ],
 "metadata": {
  "kernelspec": {
   "display_name": "Python 3 (ipykernel)",
   "language": "python",
   "name": "python3"
  },
  "language_info": {
   "codemirror_mode": {
    "name": "ipython",
    "version": 3
   },
   "file_extension": ".py",
   "mimetype": "text/x-python",
   "name": "python",
   "nbconvert_exporter": "python",
   "pygments_lexer": "ipython3",
   "version": "3.9.13"
  }
 },
 "nbformat": 4,
 "nbformat_minor": 5
}
