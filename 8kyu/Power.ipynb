{
 "cells": [
  {
   "cell_type": "code",
   "execution_count": 38,
   "id": "0990e120",
   "metadata": {},
   "outputs": [
    {
     "name": "stdout",
     "output_type": "stream",
     "text": [
      "64\n",
      "64\n"
     ]
    }
   ],
   "source": [
    "def number_to_pwr(number, p):\n",
    "    result = number\n",
    "    if p == 0:\n",
    "        result = 1\n",
    "    elif p == 1:\n",
    "        result = number\n",
    "    elif number == 0:\n",
    "        result = 0\n",
    "    else:     \n",
    "        for i in range(p-1):\n",
    "            result *= number\n",
    "    return result\n",
    "print(number_to_pwr(2,6))\n",
    "print(2**6)"
   ]
  }
 ],
 "metadata": {
  "kernelspec": {
   "display_name": "Python 3 (ipykernel)",
   "language": "python",
   "name": "python3"
  },
  "language_info": {
   "codemirror_mode": {
    "name": "ipython",
    "version": 3
   },
   "file_extension": ".py",
   "mimetype": "text/x-python",
   "name": "python",
   "nbconvert_exporter": "python",
   "pygments_lexer": "ipython3",
   "version": "3.9.13"
  }
 },
 "nbformat": 4,
 "nbformat_minor": 5
}
