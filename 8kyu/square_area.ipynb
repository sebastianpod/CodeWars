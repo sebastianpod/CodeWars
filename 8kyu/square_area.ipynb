{
 "cells": [
  {
   "cell_type": "code",
   "execution_count": 2,
   "id": "8370346f",
   "metadata": {},
   "outputs": [],
   "source": [
    "# Complete the function that calculates the area of the red square, \n",
    "# when the length of the circular arc A is given as the input. Return the result rounded to two decimals.\n",
    "\n",
    "import math\n",
    "\n",
    "def square_area(a):\n",
    "    return round((a / (math.pi / 2)) ** 2,2)"
   ]
  }
 ],
 "metadata": {
  "kernelspec": {
   "display_name": "Python 3 (ipykernel)",
   "language": "python",
   "name": "python3"
  },
  "language_info": {
   "codemirror_mode": {
    "name": "ipython",
    "version": 3
   },
   "file_extension": ".py",
   "mimetype": "text/x-python",
   "name": "python",
   "nbconvert_exporter": "python",
   "pygments_lexer": "ipython3",
   "version": "3.9.13"
  }
 },
 "nbformat": 4,
 "nbformat_minor": 5
}
