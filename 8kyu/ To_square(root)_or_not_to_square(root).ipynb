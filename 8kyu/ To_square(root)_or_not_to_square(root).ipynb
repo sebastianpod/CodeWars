{
 "cells": [
  {
   "cell_type": "code",
   "execution_count": 15,
   "id": "ebc5deed",
   "metadata": {},
   "outputs": [
    {
     "data": {
      "text/plain": [
       "[2.0, 9, 3.0, 49, 4, 1.0]"
      ]
     },
     "execution_count": 15,
     "metadata": {},
     "output_type": "execute_result"
    }
   ],
   "source": [
    "import math\n",
    "def square_or_square_root(arr):\n",
    "    lista = []\n",
    "    for i in arr:\n",
    "        if math.sqrt(i) % 1 == 0:\n",
    "            lista.append(math.sqrt(i))\n",
    "        else:\n",
    "            lista.append(i ** 2)\n",
    "    return lista\n",
    "square_or_square_root([4,3,9,7,2,1])"
   ]
  },
  {
   "cell_type": "code",
   "execution_count": 6,
   "id": "274d16eb",
   "metadata": {},
   "outputs": [
    {
     "data": {
      "text/plain": [
       "False"
      ]
     },
     "execution_count": 6,
     "metadata": {},
     "output_type": "execute_result"
    }
   ],
   "source": [
    "4 == int"
   ]
  }
 ],
 "metadata": {
  "kernelspec": {
   "display_name": "Python 3 (ipykernel)",
   "language": "python",
   "name": "python3"
  },
  "language_info": {
   "codemirror_mode": {
    "name": "ipython",
    "version": 3
   },
   "file_extension": ".py",
   "mimetype": "text/x-python",
   "name": "python",
   "nbconvert_exporter": "python",
   "pygments_lexer": "ipython3",
   "version": "3.9.13"
  }
 },
 "nbformat": 4,
 "nbformat_minor": 5
}
