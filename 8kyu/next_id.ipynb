{
 "cells": [
  {
   "cell_type": "code",
   "execution_count": 69,
   "id": "c95ee5c9",
   "metadata": {},
   "outputs": [
    {
     "data": {
      "text/plain": [
       "0"
      ]
     },
     "execution_count": 69,
     "metadata": {},
     "output_type": "execute_result"
    }
   ],
   "source": [
    "def next_id(arr):\n",
    "    if len(arr) == 0:\n",
    "        i = 0\n",
    "        return i\n",
    "    arr = sorted(arr)\n",
    "    for i in sorted(arr):\n",
    "        if 0 or 0 not in arr:\n",
    "            i = 0\n",
    "            return i\n",
    "            break\n",
    "        elif i + 1 not in arr:\n",
    "            i += 1\n",
    "            return i\n",
    "            break\n",
    "next_id([])"
   ]
  }
 ],
 "metadata": {
  "kernelspec": {
   "display_name": "Python 3 (ipykernel)",
   "language": "python",
   "name": "python3"
  },
  "language_info": {
   "codemirror_mode": {
    "name": "ipython",
    "version": 3
   },
   "file_extension": ".py",
   "mimetype": "text/x-python",
   "name": "python",
   "nbconvert_exporter": "python",
   "pygments_lexer": "ipython3",
   "version": "3.9.13"
  }
 },
 "nbformat": 4,
 "nbformat_minor": 5
}
