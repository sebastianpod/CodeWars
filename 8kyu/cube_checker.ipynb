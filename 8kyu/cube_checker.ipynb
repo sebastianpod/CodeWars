{
 "cells": [
  {
   "cell_type": "code",
   "execution_count": 10,
   "id": "f90777ee",
   "metadata": {},
   "outputs": [
    {
     "data": {
      "text/plain": [
       "-8"
      ]
     },
     "execution_count": 10,
     "metadata": {},
     "output_type": "execute_result"
    }
   ],
   "source": [
    "def cube_checker(volume, side):\n",
    "    return False if volume <= 0 else True if side**3 == volume else False\n",
    "cube_checker(-8,-2)\n",
    "-2**3"
   ]
  },
  {
   "cell_type": "code",
   "execution_count": 13,
   "id": "082ffdda",
   "metadata": {},
   "outputs": [
    {
     "data": {
      "text/plain": [
       "'available'"
      ]
     },
     "execution_count": 13,
     "metadata": {},
     "output_type": "execute_result"
    }
   ],
   "source": [
    "def get_status(is_busy):\n",
    "    return 'busy' if is_busy else 'available'\n",
    "get_status(False)"
   ]
  }
 ],
 "metadata": {
  "kernelspec": {
   "display_name": "Python 3 (ipykernel)",
   "language": "python",
   "name": "python3"
  },
  "language_info": {
   "codemirror_mode": {
    "name": "ipython",
    "version": 3
   },
   "file_extension": ".py",
   "mimetype": "text/x-python",
   "name": "python",
   "nbconvert_exporter": "python",
   "pygments_lexer": "ipython3",
   "version": "3.9.13"
  }
 },
 "nbformat": 4,
 "nbformat_minor": 5
}
