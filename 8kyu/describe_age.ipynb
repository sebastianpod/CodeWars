{
 "cells": [
  {
   "cell_type": "code",
   "execution_count": 36,
   "id": "d8c16bf3",
   "metadata": {},
   "outputs": [
    {
     "data": {
      "text/plain": [
       "\"You're a(n) teenager\""
      ]
     },
     "execution_count": 36,
     "metadata": {},
     "output_type": "execute_result"
    }
   ],
   "source": [
    "def d(a):\n",
    "    t=\"You're a(n) \"\n",
    "    f'{t}kid'if a<=12else f'{t}teenager'if a in range(13,18)else f'{t}adult'if a in range(18,65)else f'{t}elderly'\n",
    "describe_age(15)"
   ]
  },
  {
   "cell_type": "code",
   "execution_count": null,
   "id": "4add58f3",
   "metadata": {},
   "outputs": [],
   "source": [
    "age=int(input())\n",
    "x='child' if age<12 else 'teen' if age<20 else 'young' if age<30 else 'middle age' if age<50 else 'old'\n",
    "print(x)\n",
    "\n",
    "age= int(input())\n",
    "if age<12:\n",
    "    print('child')\n",
    "elif age<20:\n",
    "    print('teen')\n",
    "elif age<30:\n",
    "    print('young')\n",
    "elif age<50:\n",
    "    print('middle age')\n",
    "else:\n",
    "    print('old')\n"
   ]
  }
 ],
 "metadata": {
  "kernelspec": {
   "display_name": "Python 3 (ipykernel)",
   "language": "python",
   "name": "python3"
  },
  "language_info": {
   "codemirror_mode": {
    "name": "ipython",
    "version": 3
   },
   "file_extension": ".py",
   "mimetype": "text/x-python",
   "name": "python",
   "nbconvert_exporter": "python",
   "pygments_lexer": "ipython3",
   "version": "3.9.13"
  }
 },
 "nbformat": 4,
 "nbformat_minor": 5
}
