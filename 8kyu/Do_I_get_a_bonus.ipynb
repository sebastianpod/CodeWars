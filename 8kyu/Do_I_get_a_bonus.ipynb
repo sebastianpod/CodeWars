{
 "cells": [
  {
   "cell_type": "code",
   "execution_count": 3,
   "id": "cc2bc46e",
   "metadata": {},
   "outputs": [
    {
     "data": {
      "text/plain": [
       "'$12000'"
      ]
     },
     "execution_count": 3,
     "metadata": {},
     "output_type": "execute_result"
    }
   ],
   "source": [
    "def bonus_time(salary, bonus):\n",
    "    if bonus:\n",
    "        salary *= 10\n",
    "    strng = '$'+str(salary)\n",
    "    return strng\n",
    "bonus_time(1200,1)"
   ]
  }
 ],
 "metadata": {
  "kernelspec": {
   "display_name": "Python 3 (ipykernel)",
   "language": "python",
   "name": "python3"
  },
  "language_info": {
   "codemirror_mode": {
    "name": "ipython",
    "version": 3
   },
   "file_extension": ".py",
   "mimetype": "text/x-python",
   "name": "python",
   "nbconvert_exporter": "python",
   "pygments_lexer": "ipython3",
   "version": "3.9.13"
  }
 },
 "nbformat": 4,
 "nbformat_minor": 5
}
