{
 "cells": [
  {
   "cell_type": "code",
   "execution_count": 6,
   "id": "be2db59c",
   "metadata": {},
   "outputs": [],
   "source": [
    "def xor(a,b):\n",
    "    return True if (a or b) and not (a and b) else False"
   ]
  }
 ],
 "metadata": {
  "kernelspec": {
   "display_name": "Python 3 (ipykernel)",
   "language": "python",
   "name": "python3"
  },
  "language_info": {
   "codemirror_mode": {
    "name": "ipython",
    "version": 3
   },
   "file_extension": ".py",
   "mimetype": "text/x-python",
   "name": "python",
   "nbconvert_exporter": "python",
   "pygments_lexer": "ipython3",
   "version": "3.9.13"
  }
 },
 "nbformat": 4,
 "nbformat_minor": 5
}
