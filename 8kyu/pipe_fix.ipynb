{
 "cells": [
  {
   "cell_type": "code",
   "execution_count": 6,
   "id": "2e47e7cf",
   "metadata": {},
   "outputs": [],
   "source": [
    "# Given the a list of numbers, return a fixed list so that the values increment by 1 \n",
    "# for each index from the minimum value up to the maximum value (both included)\n",
    "\n",
    "def pipe_fix(nums):\n",
    "    list_ = []\n",
    "    for i in range(min(nums),max(nums)+1):\n",
    "        list_.append(i)\n",
    "    return list_"
   ]
  }
 ],
 "metadata": {
  "kernelspec": {
   "display_name": "Python 3 (ipykernel)",
   "language": "python",
   "name": "python3"
  },
  "language_info": {
   "codemirror_mode": {
    "name": "ipython",
    "version": 3
   },
   "file_extension": ".py",
   "mimetype": "text/x-python",
   "name": "python",
   "nbconvert_exporter": "python",
   "pygments_lexer": "ipython3",
   "version": "3.9.13"
  }
 },
 "nbformat": 4,
 "nbformat_minor": 5
}
