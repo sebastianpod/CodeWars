{
 "cells": [
  {
   "cell_type": "code",
   "execution_count": 1,
   "id": "19b88549",
   "metadata": {},
   "outputs": [],
   "source": [
    "def elevator(left, right, call):\n",
    "    if abs(call-right) > abs(call-left):\n",
    "        return 'left'\n",
    "    elif abs(call-right) < abs(call-left):\n",
    "        return 'right'\n",
    "    else:\n",
    "        return 'right'"
   ]
  }
 ],
 "metadata": {
  "kernelspec": {
   "display_name": "Python 3 (ipykernel)",
   "language": "python",
   "name": "python3"
  },
  "language_info": {
   "codemirror_mode": {
    "name": "ipython",
    "version": 3
   },
   "file_extension": ".py",
   "mimetype": "text/x-python",
   "name": "python",
   "nbconvert_exporter": "python",
   "pygments_lexer": "ipython3",
   "version": "3.9.13"
  }
 },
 "nbformat": 4,
 "nbformat_minor": 5
}
