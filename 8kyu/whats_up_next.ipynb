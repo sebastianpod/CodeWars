{
 "cells": [
  {
   "cell_type": "code",
   "execution_count": 28,
   "id": "6be5d677",
   "metadata": {},
   "outputs": [
    {
     "data": {
      "text/plain": [
       "'b'"
      ]
     },
     "execution_count": 28,
     "metadata": {},
     "output_type": "execute_result"
    }
   ],
   "source": [
    "def next_item(xs, item):\n",
    "    it = iter(xs)\n",
    "    for x in it:\n",
    "        if x == item:\n",
    "            break\n",
    "    return next(it, None)\n",
    " \n",
    "next_item(['a', 'b', 'c', 'd', 'e', 'f'], 'a')"
   ]
  },
  {
   "cell_type": "code",
   "execution_count": 25,
   "id": "692ed1ba",
   "metadata": {},
   "outputs": [
    {
     "name": "stdout",
     "output_type": "stream",
     "text": [
      "1\n"
     ]
    }
   ],
   "source": [
    "x = ['1' , '2' ,'3' ,'4' ,'5']\n",
    "print(x.index('2'))"
   ]
  }
 ],
 "metadata": {
  "kernelspec": {
   "display_name": "Python 3 (ipykernel)",
   "language": "python",
   "name": "python3"
  },
  "language_info": {
   "codemirror_mode": {
    "name": "ipython",
    "version": 3
   },
   "file_extension": ".py",
   "mimetype": "text/x-python",
   "name": "python",
   "nbconvert_exporter": "python",
   "pygments_lexer": "ipython3",
   "version": "3.9.13"
  }
 },
 "nbformat": 4,
 "nbformat_minor": 5
}
