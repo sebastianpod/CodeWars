{
 "cells": [
  {
   "cell_type": "code",
   "execution_count": 21,
   "id": "49eeb708",
   "metadata": {},
   "outputs": [],
   "source": [
    "# For this problem you must create a program that says who ate the last cookie. \n",
    "# If the input is a string then \"Zach\" ate the cookie. If the input is a float or an int then \"Monica\" ate the cookie. \n",
    "# If the input is anything else \"the dog\" ate the cookie. \n",
    "# The way to return the statement is: \"Who ate the last cookie? It was (name)!\"\n",
    "\n",
    "def cookie(x):\n",
    "    name = 'the dog' if type(x) == bool else 'Monica' if isinstance(x,int) or isinstance(x,float) else 'Zach'\n",
    "    return f'Who ate the last cookie? It was {name}!'\n",
    "        "
   ]
  }
 ],
 "metadata": {
  "kernelspec": {
   "display_name": "Python 3 (ipykernel)",
   "language": "python",
   "name": "python3"
  },
  "language_info": {
   "codemirror_mode": {
    "name": "ipython",
    "version": 3
   },
   "file_extension": ".py",
   "mimetype": "text/x-python",
   "name": "python",
   "nbconvert_exporter": "python",
   "pygments_lexer": "ipython3",
   "version": "3.9.13"
  }
 },
 "nbformat": 4,
 "nbformat_minor": 5
}
