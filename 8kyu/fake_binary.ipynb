{
 "cells": [
  {
   "cell_type": "code",
   "execution_count": 12,
   "id": "0c510b1f",
   "metadata": {},
   "outputs": [],
   "source": [
    "def fake_bin(x):\n",
    "    return ''.join('0' if i < '5' else '1' for i in x)"
   ]
  }
 ],
 "metadata": {
  "kernelspec": {
   "display_name": "Python 3 (ipykernel)",
   "language": "python",
   "name": "python3"
  },
  "language_info": {
   "codemirror_mode": {
    "name": "ipython",
    "version": 3
   },
   "file_extension": ".py",
   "mimetype": "text/x-python",
   "name": "python",
   "nbconvert_exporter": "python",
   "pygments_lexer": "ipython3",
   "version": "3.9.13"
  }
 },
 "nbformat": 4,
 "nbformat_minor": 5
}
