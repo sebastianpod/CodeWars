{
 "cells": [
  {
   "cell_type": "code",
   "execution_count": 3,
   "id": "b32d6b58",
   "metadata": {},
   "outputs": [
    {
     "data": {
      "text/plain": [
       "['andrzej']"
      ]
     },
     "execution_count": 3,
     "metadata": {},
     "output_type": "execute_result"
    }
   ],
   "source": [
    "def is_isogram(text):\n",
    "    occurence = {}\n",
    "    for i in text:\n",
    "        if i in occurence:\n",
    "            return False\n",
    "        wystapienia[i] = 1\n",
    "    return True\n",
    "\n",
    "x = 'andrzej'\n",
    "x = x.split()\n",
    "x"
   ]
  }
 ],
 "metadata": {
  "kernelspec": {
   "display_name": "Python 3 (ipykernel)",
   "language": "python",
   "name": "python3"
  },
  "language_info": {
   "codemirror_mode": {
    "name": "ipython",
    "version": 3
   },
   "file_extension": ".py",
   "mimetype": "text/x-python",
   "name": "python",
   "nbconvert_exporter": "python",
   "pygments_lexer": "ipython3",
   "version": "3.9.13"
  }
 },
 "nbformat": 4,
 "nbformat_minor": 5
}
