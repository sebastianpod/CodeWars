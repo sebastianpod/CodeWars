{
 "cells": [
  {
   "cell_type": "code",
   "execution_count": 6,
   "id": "fb9bb96b",
   "metadata": {},
   "outputs": [
    {
     "ename": "SyntaxError",
     "evalue": "invalid syntax (3573642927.py, line 2)",
     "output_type": "error",
     "traceback": [
      "\u001b[1;36m  File \u001b[1;32m\"C:\\Users\\sebastian.podsiadlo\\AppData\\Local\\Temp\\ipykernel_15824\\3573642927.py\"\u001b[1;36m, line \u001b[1;32m2\u001b[0m\n\u001b[1;33m    return '100%' if a // 10 == (b // 10 or b % 10) and a % 10 == (b // 10 or b % 10)\u001b[0m\n\u001b[1;37m                                                                                      ^\u001b[0m\n\u001b[1;31mSyntaxError\u001b[0m\u001b[1;31m:\u001b[0m invalid syntax\n"
     ]
    }
   ],
   "source": [
    "def compare(a, b):\n",
    "    return '100%' if a // 10 == (b // 10 or b % 10) and a % 10 == (b // 10 or b % 10) "
   ]
  },
  {
   "cell_type": "code",
   "execution_count": 5,
   "id": "733e10a0",
   "metadata": {},
   "outputs": [
    {
     "data": {
      "text/plain": [
       "2"
      ]
     },
     "execution_count": 5,
     "metadata": {},
     "output_type": "execute_result"
    }
   ],
   "source": [
    "26 // 10"
   ]
  }
 ],
 "metadata": {
  "kernelspec": {
   "display_name": "Python 3 (ipykernel)",
   "language": "python",
   "name": "python3"
  },
  "language_info": {
   "codemirror_mode": {
    "name": "ipython",
    "version": 3
   },
   "file_extension": ".py",
   "mimetype": "text/x-python",
   "name": "python",
   "nbconvert_exporter": "python",
   "pygments_lexer": "ipython3",
   "version": "3.9.13"
  }
 },
 "nbformat": 4,
 "nbformat_minor": 5
}
