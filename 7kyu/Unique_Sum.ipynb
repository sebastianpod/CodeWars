{
 "cells": [
  {
   "cell_type": "code",
   "execution_count": 38,
   "id": "5f0b6054",
   "metadata": {},
   "outputs": [],
   "source": [
    "def unique_sum(lst):\n",
    "    lst = set(lst)\n",
    "    return sum(i for i in lst)"
   ]
  }
 ],
 "metadata": {
  "kernelspec": {
   "display_name": "Python 3 (ipykernel)",
   "language": "python",
   "name": "python3"
  },
  "language_info": {
   "codemirror_mode": {
    "name": "ipython",
    "version": 3
   },
   "file_extension": ".py",
   "mimetype": "text/x-python",
   "name": "python",
   "nbconvert_exporter": "python",
   "pygments_lexer": "ipython3",
   "version": "3.9.13"
  }
 },
 "nbformat": 4,
 "nbformat_minor": 5
}
