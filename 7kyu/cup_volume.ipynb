{
 "cells": [
  {
   "cell_type": "code",
   "execution_count": null,
   "id": "57fb876a",
   "metadata": {},
   "outputs": [],
   "source": [
    "# Your job is to return the volume of a cup when given the diameter of the top, the diameter of the bottom and the height\n",
    "# You know that there is a steady gradient from the top to the bottom\n",
    "# You want to return the volume rounded to 2 decimal places\n",
    "\n",
    "from math import pi\n",
    "\n",
    "def cup_volume(d1, d2, height):\n",
    "    d1 = d1/2\n",
    "    d2 = d2/2\n",
    "    if d1 > d2:\n",
    "        return round((1/3) * pi * (d1 ** 2 + d1 * d2 + d2 ** 2) * height,2)\n",
    "    else:\n",
    "        return round((1/3) * pi * (d2 ** 2 + d2 * d1 + d1 ** 2) * height,2)"
   ]
  }
 ],
 "metadata": {
  "kernelspec": {
   "display_name": "Python 3 (ipykernel)",
   "language": "python",
   "name": "python3"
  },
  "language_info": {
   "codemirror_mode": {
    "name": "ipython",
    "version": 3
   },
   "file_extension": ".py",
   "mimetype": "text/x-python",
   "name": "python",
   "nbconvert_exporter": "python",
   "pygments_lexer": "ipython3",
   "version": "3.9.13"
  }
 },
 "nbformat": 4,
 "nbformat_minor": 5
}
