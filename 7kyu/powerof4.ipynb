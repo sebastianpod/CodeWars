{
 "cells": [
  {
   "cell_type": "code",
   "execution_count": 4,
   "id": "07f63a13",
   "metadata": {},
   "outputs": [],
   "source": [
    "# Write a method that returns true if a given parameter is a power of 4, and false if it's not. \n",
    "# If parameter is not an Integer (eg String, Array) method should return false as well.\n",
    "\n",
    "from math import log\n",
    "\n",
    "def powerof4(n):\n",
    "    if type(n) in (float, int) and n > 0:\n",
    "        return log(n,4).is_integer()\n",
    "    return False"
   ]
  }
 ],
 "metadata": {
  "kernelspec": {
   "display_name": "Python 3 (ipykernel)",
   "language": "python",
   "name": "python3"
  },
  "language_info": {
   "codemirror_mode": {
    "name": "ipython",
    "version": 3
   },
   "file_extension": ".py",
   "mimetype": "text/x-python",
   "name": "python",
   "nbconvert_exporter": "python",
   "pygments_lexer": "ipython3",
   "version": "3.9.13"
  }
 },
 "nbformat": 4,
 "nbformat_minor": 5
}
