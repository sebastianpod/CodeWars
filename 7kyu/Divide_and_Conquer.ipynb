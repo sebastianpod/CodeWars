{
 "cells": [
  {
   "cell_type": "code",
   "execution_count": 14,
   "id": "f56e4681",
   "metadata": {},
   "outputs": [],
   "source": [
    "def div_con(x):\n",
    "    int_ = 0\n",
    "    for i in x:\n",
    "        if type(i) == int:\n",
    "            int_ += i\n",
    "        else:\n",
    "            int_ -= int(i)\n",
    "    return int_"
   ]
  }
 ],
 "metadata": {
  "kernelspec": {
   "display_name": "Python 3 (ipykernel)",
   "language": "python",
   "name": "python3"
  },
  "language_info": {
   "codemirror_mode": {
    "name": "ipython",
    "version": 3
   },
   "file_extension": ".py",
   "mimetype": "text/x-python",
   "name": "python",
   "nbconvert_exporter": "python",
   "pygments_lexer": "ipython3",
   "version": "3.9.13"
  }
 },
 "nbformat": 4,
 "nbformat_minor": 5
}
