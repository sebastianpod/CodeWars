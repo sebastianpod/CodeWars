{
 "cells": [
  {
   "cell_type": "code",
   "execution_count": 107,
   "id": "67cd13d8",
   "metadata": {},
   "outputs": [
    {
     "data": {
      "text/plain": [
       "True"
      ]
     },
     "execution_count": 107,
     "metadata": {},
     "output_type": "execute_result"
    }
   ],
   "source": [
    "def cyclops(n):\n",
    "    n = str(bin(n))[2:]\n",
    "    if len(n) % 2 == 0:\n",
    "        print('len(n) = ', len(n) % 2)\n",
    "        return False\n",
    "    elif n.count('0') > 1:\n",
    "        print('count = ', n.count('0'))\n",
    "        return False\n",
    "    elif n[len(n) // 2] == '0':\n",
    "        return True\n",
    "    else:\n",
    "        return False\n",
    "cyclops(5)   "
   ]
  }
 ],
 "metadata": {
  "kernelspec": {
   "display_name": "Python 3 (ipykernel)",
   "language": "python",
   "name": "python3"
  },
  "language_info": {
   "codemirror_mode": {
    "name": "ipython",
    "version": 3
   },
   "file_extension": ".py",
   "mimetype": "text/x-python",
   "name": "python",
   "nbconvert_exporter": "python",
   "pygments_lexer": "ipython3",
   "version": "3.9.13"
  }
 },
 "nbformat": 4,
 "nbformat_minor": 5
}
