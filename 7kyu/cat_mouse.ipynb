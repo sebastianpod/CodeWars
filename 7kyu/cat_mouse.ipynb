{
 "cells": [
  {
   "cell_type": "code",
   "execution_count": 9,
   "id": "f35e26ed",
   "metadata": {},
   "outputs": [
    {
     "data": {
      "text/plain": [
       "'Escaped!'"
      ]
     },
     "execution_count": 9,
     "metadata": {},
     "output_type": "execute_result"
    }
   ],
   "source": [
    "def cat_mouse(x):\n",
    "    list_ = x.split('.')\n",
    "    if len(list_) - 1 <= 3:\n",
    "        return 'Caught!'\n",
    "    else:\n",
    "        return 'Escaped!'\n",
    "x = 'm....C'\n",
    "cat_mouse(x)"
   ]
  }
 ],
 "metadata": {
  "kernelspec": {
   "display_name": "Python 3 (ipykernel)",
   "language": "python",
   "name": "python3"
  },
  "language_info": {
   "codemirror_mode": {
    "name": "ipython",
    "version": 3
   },
   "file_extension": ".py",
   "mimetype": "text/x-python",
   "name": "python",
   "nbconvert_exporter": "python",
   "pygments_lexer": "ipython3",
   "version": "3.9.13"
  }
 },
 "nbformat": 4,
 "nbformat_minor": 5
}
