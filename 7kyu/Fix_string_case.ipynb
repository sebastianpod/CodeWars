{
 "cells": [
  {
   "cell_type": "code",
   "execution_count": 6,
   "id": "acd17b93",
   "metadata": {},
   "outputs": [
    {
     "data": {
      "text/plain": [
       "'andrzej'"
      ]
     },
     "execution_count": 6,
     "metadata": {},
     "output_type": "execute_result"
    }
   ],
   "source": [
    "def solve(s):\n",
    "    l = 0\n",
    "    u = 0\n",
    "    for i in s:\n",
    "        if i.isupper():\n",
    "            u += 1\n",
    "        elif i.islower():\n",
    "            l += 1\n",
    "    if l >= u:\n",
    "        return s.lower()\n",
    "    else:\n",
    "        return s.upper()\n",
    "solve('anDrzej')\n",
    "    "
   ]
  }
 ],
 "metadata": {
  "kernelspec": {
   "display_name": "Python 3 (ipykernel)",
   "language": "python",
   "name": "python3"
  },
  "language_info": {
   "codemirror_mode": {
    "name": "ipython",
    "version": 3
   },
   "file_extension": ".py",
   "mimetype": "text/x-python",
   "name": "python",
   "nbconvert_exporter": "python",
   "pygments_lexer": "ipython3",
   "version": "3.9.13"
  }
 },
 "nbformat": 4,
 "nbformat_minor": 5
}
