{
 "cells": [
  {
   "cell_type": "code",
   "execution_count": 36,
   "id": "b0c6be12",
   "metadata": {},
   "outputs": [
    {
     "name": "stdout",
     "output_type": "stream",
     "text": [
      "jezrdna ot kilohokla \n"
     ]
    }
   ],
   "source": [
    "def reverse_words(text):\n",
    "    text = text.split()\n",
    "    n = 0\n",
    "    out = ''\n",
    "    for i in text:\n",
    "        out += text[n][::-1] + ' '\n",
    "        n += 1\n",
    "    return out\n",
    "            \n",
    "    \n",
    "reverse_words('andrzej to alkoholik')\n",
    "        "
   ]
  },
  {
   "cell_type": "code",
   "execution_count": 23,
   "id": "46443828",
   "metadata": {},
   "outputs": [
    {
     "name": "stdout",
     "output_type": "stream",
     "text": [
      "andrzej\n"
     ]
    }
   ],
   "source": [
    "x = 'andrzej to alkoholik'\n",
    "x = x.split()\n",
    "print(x[0])"
   ]
  }
 ],
 "metadata": {
  "kernelspec": {
   "display_name": "Python 3 (ipykernel)",
   "language": "python",
   "name": "python3"
  },
  "language_info": {
   "codemirror_mode": {
    "name": "ipython",
    "version": 3
   },
   "file_extension": ".py",
   "mimetype": "text/x-python",
   "name": "python",
   "nbconvert_exporter": "python",
   "pygments_lexer": "ipython3",
   "version": "3.9.13"
  }
 },
 "nbformat": 4,
 "nbformat_minor": 5
}
