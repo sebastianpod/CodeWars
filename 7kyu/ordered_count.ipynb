{
 "cells": [
  {
   "cell_type": "code",
   "execution_count": 53,
   "id": "528a5f3f",
   "metadata": {},
   "outputs": [
    {
     "data": {
      "text/plain": [
       "[('C', 1),\n",
       " ('o', 1),\n",
       " ('d', 1),\n",
       " ('e', 1),\n",
       " (' ', 1),\n",
       " ('W', 1),\n",
       " ('a', 1),\n",
       " ('r', 1),\n",
       " ('s', 1)]"
      ]
     },
     "execution_count": 53,
     "metadata": {},
     "output_type": "execute_result"
    }
   ],
   "source": [
    "def ordered_count(inp):\n",
    "    return sorted(list(dict.fromkeys([(i, inp.count(i)) for i in inp])), key = lambda x: x[1], reverse = True)\n",
    "ordered_count('Code Wars')\n"
   ]
  }
 ],
 "metadata": {
  "kernelspec": {
   "display_name": "Python 3 (ipykernel)",
   "language": "python",
   "name": "python3"
  },
  "language_info": {
   "codemirror_mode": {
    "name": "ipython",
    "version": 3
   },
   "file_extension": ".py",
   "mimetype": "text/x-python",
   "name": "python",
   "nbconvert_exporter": "python",
   "pygments_lexer": "ipython3",
   "version": "3.9.13"
  }
 },
 "nbformat": 4,
 "nbformat_minor": 5
}
