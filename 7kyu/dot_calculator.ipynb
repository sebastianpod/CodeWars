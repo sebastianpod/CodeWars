{
 "cells": [
  {
   "cell_type": "code",
   "execution_count": 17,
   "id": "f87aad45",
   "metadata": {},
   "outputs": [
    {
     "data": {
      "text/plain": [
       "'......'"
      ]
     },
     "execution_count": 17,
     "metadata": {},
     "output_type": "execute_result"
    }
   ],
   "source": [
    "def calculator(txt):\n",
    "    output = ''\n",
    "    if txt.split()[1] == '+':\n",
    "        for i in txt.split()[0] + txt.split()[2]:\n",
    "            output += '.'\n",
    "    elif txt.split()[1] == '-':\n",
    "        for i in range(len(txt.split()[0]) - len(txt.split()[2])):\n",
    "            output += '.'\n",
    "    elif txt.split()[1] == '*':\n",
    "        for i in range(len(txt.split()[0]) * len(txt.split()[2])):\n",
    "            output += '.'\n",
    "    else:\n",
    "        for i in range(len(txt.split()[0]) // len(txt.split()[2])):\n",
    "            output += '.'        \n",
    "    return output\n",
    "    \n",
    "calculator(\"... * ..\")"
   ]
  }
 ],
 "metadata": {
  "kernelspec": {
   "display_name": "Python 3 (ipykernel)",
   "language": "python",
   "name": "python3"
  },
  "language_info": {
   "codemirror_mode": {
    "name": "ipython",
    "version": 3
   },
   "file_extension": ".py",
   "mimetype": "text/x-python",
   "name": "python",
   "nbconvert_exporter": "python",
   "pygments_lexer": "ipython3",
   "version": "3.9.13"
  }
 },
 "nbformat": 4,
 "nbformat_minor": 5
}
