{
 "cells": [
  {
   "cell_type": "code",
   "execution_count": 37,
   "id": "81d68669",
   "metadata": {},
   "outputs": [],
   "source": [
    "def trim(phrase, size):\n",
    "    \n",
    "    if len(phrase) <= size:\n",
    "        return phrase\n",
    "    elif size <=3 :\n",
    "        return phrase[:size] + '...'\n",
    "    else:\n",
    "        return phrase[:size-3] + '...'"
   ]
  },
  {
   "cell_type": "code",
   "execution_count": 31,
   "id": "0b739a8e",
   "metadata": {},
   "outputs": [
    {
     "name": "stdout",
     "output_type": "stream",
     "text": [
      "H\n"
     ]
    }
   ],
   "source": [
    "x = \"He\"\n",
    "print(x[:1])"
   ]
  }
 ],
 "metadata": {
  "kernelspec": {
   "display_name": "Python 3 (ipykernel)",
   "language": "python",
   "name": "python3"
  },
  "language_info": {
   "codemirror_mode": {
    "name": "ipython",
    "version": 3
   },
   "file_extension": ".py",
   "mimetype": "text/x-python",
   "name": "python",
   "nbconvert_exporter": "python",
   "pygments_lexer": "ipython3",
   "version": "3.9.13"
  }
 },
 "nbformat": 4,
 "nbformat_minor": 5
}
