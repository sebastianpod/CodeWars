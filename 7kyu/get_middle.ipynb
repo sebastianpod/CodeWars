{
 "cells": [
  {
   "cell_type": "code",
   "execution_count": 33,
   "id": "1a5c7727",
   "metadata": {},
   "outputs": [
    {
     "data": {
      "text/plain": [
       "'rz'"
      ]
     },
     "execution_count": 33,
     "metadata": {},
     "output_type": "execute_result"
    }
   ],
   "source": [
    "def get_middle(s):\n",
    "#     return s[round(len(s)/2)-1] if len(s) % 2 != 0 else s[len(s)/2]\n",
    "    \n",
    "    if len(s) % 2 != 0:\n",
    "        return s[int(len(s)/2)-1]\n",
    "    else:\n",
    "        return s[round(len(s)/2)-1] + s[round(len(s)/2)]\n",
    "\n",
    "get_middle('andrzeja')\n",
    "# x = 'andrzej'\n",
    "# print(x[round(len(x)/2)-1])"
   ]
  }
 ],
 "metadata": {
  "kernelspec": {
   "display_name": "Python 3 (ipykernel)",
   "language": "python",
   "name": "python3"
  },
  "language_info": {
   "codemirror_mode": {
    "name": "ipython",
    "version": 3
   },
   "file_extension": ".py",
   "mimetype": "text/x-python",
   "name": "python",
   "nbconvert_exporter": "python",
   "pygments_lexer": "ipython3",
   "version": "3.9.13"
  }
 },
 "nbformat": 4,
 "nbformat_minor": 5
}
