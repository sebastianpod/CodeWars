{
 "cells": [
  {
   "cell_type": "code",
   "execution_count": 14,
   "id": "a2471b5f",
   "metadata": {},
   "outputs": [
    {
     "data": {
      "text/plain": [
       "'0123456789'"
      ]
     },
     "execution_count": 14,
     "metadata": {},
     "output_type": "execute_result"
    }
   ],
   "source": [
    "def computer_to_phone(numbers):\n",
    "    ind = 0\n",
    "    str_ = ''\n",
    "    phone_keypad = ('1', '2', '3', '4', '5', '6', '7', '8', '9', '0')\n",
    "    comp_keypad = ('7', '8', '9' ,'4', '5', '6', '1', '2', '3', '0')\n",
    "    for i in numbers:\n",
    "        ind = comp_keypad.index(i)\n",
    "        str_ += phone_keypad[ind]\n",
    "    return str_\n",
    "computer_to_phone('0789456123')"
   ]
  }
 ],
 "metadata": {
  "kernelspec": {
   "display_name": "Python 3 (ipykernel)",
   "language": "python",
   "name": "python3"
  },
  "language_info": {
   "codemirror_mode": {
    "name": "ipython",
    "version": 3
   },
   "file_extension": ".py",
   "mimetype": "text/x-python",
   "name": "python",
   "nbconvert_exporter": "python",
   "pygments_lexer": "ipython3",
   "version": "3.9.13"
  }
 },
 "nbformat": 4,
 "nbformat_minor": 5
}
