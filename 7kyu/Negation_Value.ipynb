{
 "cells": [
  {
   "cell_type": "code",
   "execution_count": 10,
   "id": "31416f65",
   "metadata": {},
   "outputs": [
    {
     "data": {
      "text/plain": [
       "False"
      ]
     },
     "execution_count": 10,
     "metadata": {},
     "output_type": "execute_result"
    }
   ],
   "source": [
    "def negation_value(s, val):\n",
    "    if s != 0:\n",
    "        for i in s:\n",
    "            val = not val\n",
    "        return val\n",
    "    else:\n",
    "        return False\n",
    "negation_value('!!!!!!!!!!!!!!!!!!!!!!!!!!!!', False)"
   ]
  }
 ],
 "metadata": {
  "kernelspec": {
   "display_name": "Python 3 (ipykernel)",
   "language": "python",
   "name": "python3"
  },
  "language_info": {
   "codemirror_mode": {
    "name": "ipython",
    "version": 3
   },
   "file_extension": ".py",
   "mimetype": "text/x-python",
   "name": "python",
   "nbconvert_exporter": "python",
   "pygments_lexer": "ipython3",
   "version": "3.9.13"
  }
 },
 "nbformat": 4,
 "nbformat_minor": 5
}
