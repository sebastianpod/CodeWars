{
 "cells": [
  {
   "cell_type": "code",
   "execution_count": 8,
   "id": "5c99fca9",
   "metadata": {},
   "outputs": [
    {
     "name": "stdout",
     "output_type": "stream",
     "text": [
      "['Java', 'Python', 'Ruby']\n"
     ]
    }
   ],
   "source": [
    "#You are given a dictionary/hash/object containing some languages and your test results in the given languages. \n",
    "#Return the list of languages where your test score is at least 60, in descending order of the scores.\n",
    "\n",
    "def my_languages(dict):\n",
    "    store = []\n",
    "    for key, value in dict.items():\n",
    "        if value >= 60:\n",
    "            store.append(key)\n",
    "    return sorted(store, key=lambda x: dict[x], reverse= True)"
   ]
  }
 ],
 "metadata": {
  "kernelspec": {
   "display_name": "Python 3 (ipykernel)",
   "language": "python",
   "name": "python3"
  },
  "language_info": {
   "codemirror_mode": {
    "name": "ipython",
    "version": 3
   },
   "file_extension": ".py",
   "mimetype": "text/x-python",
   "name": "python",
   "nbconvert_exporter": "python",
   "pygments_lexer": "ipython3",
   "version": "3.9.13"
  }
 },
 "nbformat": 4,
 "nbformat_minor": 5
}
