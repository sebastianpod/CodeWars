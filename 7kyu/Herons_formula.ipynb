{
 "cells": [
  {
   "cell_type": "code",
   "execution_count": 8,
   "id": "dfa44de5",
   "metadata": {},
   "outputs": [],
   "source": [
    "import math\n",
    "def heron(a, b, c):\n",
    "    s = (a + b + c) / 2\n",
    "    return round(math.sqrt(s * (s - a) * (s - b) * (s - c)),2)"
   ]
  }
 ],
 "metadata": {
  "kernelspec": {
   "display_name": "Python 3 (ipykernel)",
   "language": "python",
   "name": "python3"
  },
  "language_info": {
   "codemirror_mode": {
    "name": "ipython",
    "version": 3
   },
   "file_extension": ".py",
   "mimetype": "text/x-python",
   "name": "python",
   "nbconvert_exporter": "python",
   "pygments_lexer": "ipython3",
   "version": "3.9.13"
  }
 },
 "nbformat": 4,
 "nbformat_minor": 5
}
