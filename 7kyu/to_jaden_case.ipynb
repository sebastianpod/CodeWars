{
 "cells": [
  {
   "cell_type": "code",
   "execution_count": 9,
   "id": "bec73d9d",
   "metadata": {},
   "outputs": [
    {
     "data": {
      "text/plain": [
       "'Andjr Kjaskals Asa'"
      ]
     },
     "execution_count": 9,
     "metadata": {},
     "output_type": "execute_result"
    }
   ],
   "source": [
    "def to_jaden_case(string):\n",
    "    return ' '.join(i.capitalize() for i in string.split())\n",
    "to_jaden_case('andjr kjaskals asa')"
   ]
  }
 ],
 "metadata": {
  "kernelspec": {
   "display_name": "Python 3 (ipykernel)",
   "language": "python",
   "name": "python3"
  },
  "language_info": {
   "codemirror_mode": {
    "name": "ipython",
    "version": 3
   },
   "file_extension": ".py",
   "mimetype": "text/x-python",
   "name": "python",
   "nbconvert_exporter": "python",
   "pygments_lexer": "ipython3",
   "version": "3.9.13"
  }
 },
 "nbformat": 4,
 "nbformat_minor": 5
}
